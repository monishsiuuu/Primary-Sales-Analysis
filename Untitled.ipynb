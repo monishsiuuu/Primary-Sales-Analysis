{
 "cells": [
  {
   "cell_type": "code",
   "execution_count": 15,
   "id": "291680ed-2b1d-4497-9f7e-b0befd12e2e6",
   "metadata": {},
   "outputs": [
    {
     "data": {
      "text/html": [
       "<div>\n",
       "<style scoped>\n",
       "    .dataframe tbody tr th:only-of-type {\n",
       "        vertical-align: middle;\n",
       "    }\n",
       "\n",
       "    .dataframe tbody tr th {\n",
       "        vertical-align: top;\n",
       "    }\n",
       "\n",
       "    .dataframe thead th {\n",
       "        text-align: right;\n",
       "    }\n",
       "</style>\n",
       "<table border=\"1\" class=\"dataframe\">\n",
       "  <thead>\n",
       "    <tr style=\"text-align: right;\">\n",
       "      <th></th>\n",
       "      <th>Sr</th>\n",
       "      <th>ID</th>\n",
       "      <th>Customer</th>\n",
       "      <th>Primary Sales</th>\n",
       "      <th>Cancelled</th>\n",
       "      <th>Is added to primary log</th>\n",
       "      <th>Against Expiry</th>\n",
       "      <th>Breakage</th>\n",
       "      <th>Claim Offer</th>\n",
       "      <th>Quantity</th>\n",
       "      <th>...</th>\n",
       "      <th>Free Item</th>\n",
       "      <th>HQ</th>\n",
       "      <th>Sales Team</th>\n",
       "      <th>Return for Reason</th>\n",
       "      <th>Sales Return</th>\n",
       "      <th>Sales Invoice Name</th>\n",
       "      <th>Rate Difference</th>\n",
       "      <th>Item Name</th>\n",
       "      <th>Free Item Value</th>\n",
       "      <th>Date</th>\n",
       "    </tr>\n",
       "  </thead>\n",
       "  <tbody>\n",
       "    <tr>\n",
       "      <th>0</th>\n",
       "      <td>9354</td>\n",
       "      <td>SL-10-24-268441</td>\n",
       "      <td>SESHABALAJEE MEDISOLUTIONS PVT LTD</td>\n",
       "      <td>135.08</td>\n",
       "      <td>1</td>\n",
       "      <td>1</td>\n",
       "      <td>135.08</td>\n",
       "      <td>0.0</td>\n",
       "      <td>0.0</td>\n",
       "      <td>-4</td>\n",
       "      <td>...</td>\n",
       "      <td>0</td>\n",
       "      <td>HQ-Vizag</td>\n",
       "      <td>Elbrit AP</td>\n",
       "      <td>Expired</td>\n",
       "      <td>0.0</td>\n",
       "      <td>SINV-24-01509</td>\n",
       "      <td>0.0</td>\n",
       "      <td>TELBRIT 20</td>\n",
       "      <td>0.0</td>\n",
       "      <td>2024-09-23</td>\n",
       "    </tr>\n",
       "    <tr>\n",
       "      <th>1</th>\n",
       "      <td>9355</td>\n",
       "      <td>SL-10-24-268440</td>\n",
       "      <td>SESHABALAJEE MEDISOLUTIONS PVT LTD</td>\n",
       "      <td>413.80</td>\n",
       "      <td>1</td>\n",
       "      <td>1</td>\n",
       "      <td>413.80</td>\n",
       "      <td>0.0</td>\n",
       "      <td>0.0</td>\n",
       "      <td>-4</td>\n",
       "      <td>...</td>\n",
       "      <td>0</td>\n",
       "      <td>HQ-Vizag</td>\n",
       "      <td>Elbrit AP</td>\n",
       "      <td>Expired</td>\n",
       "      <td>0.0</td>\n",
       "      <td>SINV-24-01509</td>\n",
       "      <td>0.0</td>\n",
       "      <td>DAFAX M 5</td>\n",
       "      <td>0.0</td>\n",
       "      <td>2024-09-23</td>\n",
       "    </tr>\n",
       "    <tr>\n",
       "      <th>2</th>\n",
       "      <td>9356</td>\n",
       "      <td>SL-10-24-268439</td>\n",
       "      <td>SESHABALAJEE MEDISOLUTIONS PVT LTD</td>\n",
       "      <td>210.38</td>\n",
       "      <td>1</td>\n",
       "      <td>1</td>\n",
       "      <td>210.38</td>\n",
       "      <td>0.0</td>\n",
       "      <td>0.0</td>\n",
       "      <td>-2</td>\n",
       "      <td>...</td>\n",
       "      <td>0</td>\n",
       "      <td>HQ-Vizag</td>\n",
       "      <td>Elbrit AP</td>\n",
       "      <td>Expired</td>\n",
       "      <td>0.0</td>\n",
       "      <td>SINV-24-01509</td>\n",
       "      <td>0.0</td>\n",
       "      <td>TELBRIT AM</td>\n",
       "      <td>0.0</td>\n",
       "      <td>2024-09-23</td>\n",
       "    </tr>\n",
       "    <tr>\n",
       "      <th>3</th>\n",
       "      <td>9357</td>\n",
       "      <td>SL-10-24-268438</td>\n",
       "      <td>SESHABALAJEE MEDISOLUTIONS PVT LTD</td>\n",
       "      <td>105.19</td>\n",
       "      <td>1</td>\n",
       "      <td>1</td>\n",
       "      <td>105.19</td>\n",
       "      <td>0.0</td>\n",
       "      <td>0.0</td>\n",
       "      <td>-1</td>\n",
       "      <td>...</td>\n",
       "      <td>0</td>\n",
       "      <td>HQ-Vizag</td>\n",
       "      <td>Elbrit AP</td>\n",
       "      <td>Expired</td>\n",
       "      <td>0.0</td>\n",
       "      <td>SINV-24-01509</td>\n",
       "      <td>0.0</td>\n",
       "      <td>TELBRIT H</td>\n",
       "      <td>0.0</td>\n",
       "      <td>2024-09-23</td>\n",
       "    </tr>\n",
       "    <tr>\n",
       "      <th>4</th>\n",
       "      <td>9358</td>\n",
       "      <td>SL-10-24-268437</td>\n",
       "      <td>SESHABALAJEE MEDISOLUTIONS PVT LTD</td>\n",
       "      <td>978.30</td>\n",
       "      <td>1</td>\n",
       "      <td>1</td>\n",
       "      <td>978.30</td>\n",
       "      <td>0.0</td>\n",
       "      <td>0.0</td>\n",
       "      <td>-9</td>\n",
       "      <td>...</td>\n",
       "      <td>0</td>\n",
       "      <td>HQ-Vizag</td>\n",
       "      <td>Elbrit AP</td>\n",
       "      <td>Expired</td>\n",
       "      <td>0.0</td>\n",
       "      <td>SINV-24-01509</td>\n",
       "      <td>0.0</td>\n",
       "      <td>TRIGLIMIBRIT 1.3</td>\n",
       "      <td>0.0</td>\n",
       "      <td>2024-09-23</td>\n",
       "    </tr>\n",
       "  </tbody>\n",
       "</table>\n",
       "<p>5 rows × 21 columns</p>\n",
       "</div>"
      ],
      "text/plain": [
       "     Sr               ID                            Customer  Primary Sales  \\\n",
       "0  9354  SL-10-24-268441  SESHABALAJEE MEDISOLUTIONS PVT LTD         135.08   \n",
       "1  9355  SL-10-24-268440  SESHABALAJEE MEDISOLUTIONS PVT LTD         413.80   \n",
       "2  9356  SL-10-24-268439  SESHABALAJEE MEDISOLUTIONS PVT LTD         210.38   \n",
       "3  9357  SL-10-24-268438  SESHABALAJEE MEDISOLUTIONS PVT LTD         105.19   \n",
       "4  9358  SL-10-24-268437  SESHABALAJEE MEDISOLUTIONS PVT LTD         978.30   \n",
       "\n",
       "   Cancelled  Is added to primary log  Against Expiry  Breakage  Claim Offer  \\\n",
       "0          1                        1          135.08       0.0          0.0   \n",
       "1          1                        1          413.80       0.0          0.0   \n",
       "2          1                        1          210.38       0.0          0.0   \n",
       "3          1                        1          105.19       0.0          0.0   \n",
       "4          1                        1          978.30       0.0          0.0   \n",
       "\n",
       "   Quantity  ...  Free Item        HQ Sales Team Return for Reason  \\\n",
       "0        -4  ...          0  HQ-Vizag  Elbrit AP           Expired   \n",
       "1        -4  ...          0  HQ-Vizag  Elbrit AP           Expired   \n",
       "2        -2  ...          0  HQ-Vizag  Elbrit AP           Expired   \n",
       "3        -1  ...          0  HQ-Vizag  Elbrit AP           Expired   \n",
       "4        -9  ...          0  HQ-Vizag  Elbrit AP           Expired   \n",
       "\n",
       "  Sales Return  Sales Invoice Name Rate Difference         Item Name  \\\n",
       "0          0.0       SINV-24-01509             0.0        TELBRIT 20   \n",
       "1          0.0       SINV-24-01509             0.0         DAFAX M 5   \n",
       "2          0.0       SINV-24-01509             0.0        TELBRIT AM   \n",
       "3          0.0       SINV-24-01509             0.0         TELBRIT H   \n",
       "4          0.0       SINV-24-01509             0.0  TRIGLIMIBRIT 1.3   \n",
       "\n",
       "  Free Item Value       Date  \n",
       "0             0.0 2024-09-23  \n",
       "1             0.0 2024-09-23  \n",
       "2             0.0 2024-09-23  \n",
       "3             0.0 2024-09-23  \n",
       "4             0.0 2024-09-23  \n",
       "\n",
       "[5 rows x 21 columns]"
      ]
     },
     "execution_count": 15,
     "metadata": {},
     "output_type": "execute_result"
    }
   ],
   "source": [
    "import pandas as pd\n",
    "import matplotlib.pyplot as plt\n",
    "from statsmodels.tsa.arima.model import ARIMA\n",
    "import numpy as np\n",
    "data = pd.read_excel(\"./ELB-Sales-Data(Elbrit Sales Log).xlsx\")\n",
    "data.head()"
   ]
  },
  {
   "cell_type": "code",
   "execution_count": 24,
   "id": "767372bc-315b-4b1a-8274-b5bd2be62ed1",
   "metadata": {},
   "outputs": [
    {
     "name": "stdout",
     "output_type": "stream",
     "text": [
      "The highest selling product in September is: NEURONZ D\n"
     ]
    }
   ],
   "source": [
    "import pandas as pd\n",
    "data['Date'] = pd.to_datetime(data['Date'], dayfirst=True)  \n",
    "september_data = data[data['Date'].dt.month == 9]\n",
    "highest_selling_product = september_data.groupby('Item Name')['Primary Sales'].sum().idxmax()\n",
    "print(\"The highest selling product in September is:\", highest_selling_product)"
   ]
  },
  {
   "cell_type": "code",
   "execution_count": 17,
   "id": "59af9b00-6ab1-40a7-89b6-40c043254602",
   "metadata": {},
   "outputs": [
    {
     "name": "stdout",
     "output_type": "stream",
     "text": [
      "The highest selling item in May for CND Chennai is: NEURONZ D\n"
     ]
    }
   ],
   "source": [
    "data['Date'] = pd.to_datetime(data['Date'], dayfirst=True) \n",
    "may_data = data[(data['Date'].dt.month == 5) & (data['Sales Team'] == 'CND Chennai')]\n",
    "highest_sales_may_cnd = may_data.groupby('Item Name')['Primary Sales'].sum().idxmax()\n",
    "print(\"The highest selling item in May for CND Chennai is:\", highest_sales_may_cnd)"
   ]
  },
  {
   "cell_type": "code",
   "execution_count": 18,
   "id": "5f3bb7ba-a91e-4b12-99b1-b39cd5e210fb",
   "metadata": {},
   "outputs": [
    {
     "name": "stdout",
     "output_type": "stream",
     "text": [
      "No data found for October and HQ Bangalore sales team.\n"
     ]
    }
   ],
   "source": [
    "data['Date'] = pd.to_datetime(data['Date'], dayfirst=True)  \n",
    "october_data = data[(data['Date'].dt.month == 10) & (data['Sales Team'] == 'HQ Bangalore')]\n",
    "if october_data.empty:\n",
    "    print(\"No data found for October and HQ Bangalore sales team.\")\n",
    "else:\n",
    "    customer_with_max_returns = october_data.groupby('Customer')['Sales Return'].sum().idxmax()\n",
    "    print(\"The customer with the maximum sales returns in October for HQ Bangalore is:\", customer_with_max_returns)"
   ]
  },
  {
   "cell_type": "code",
   "execution_count": 19,
   "id": "c1195fb3-f314-401f-81ac-e930215f7b86",
   "metadata": {},
   "outputs": [
    {
     "name": "stdout",
     "output_type": "stream",
     "text": [
      "The sales team with the maximum percentage of primary sales returned due to expiry is: Elbrit Delhi\n"
     ]
    }
   ],
   "source": [
    "data['Date'] = pd.to_datetime(data['Date'], dayfirst=True)\n",
    "expiry_returns_data = data[data['Return for Reason'] == 'Expired']\n",
    "total_sales_by_team = data.groupby('Sales Team')['Primary Sales'].sum()\n",
    "expiry_sales_by_team = expiry_returns_data.groupby('Sales Team')['Primary Sales'].sum()\n",
    "sales_percentage_expiry = (expiry_sales_by_team / total_sales_by_team) * 100\n",
    "sales_team_with_max_expiry = sales_percentage_expiry.idxmax()\n",
    "print(f\"The sales team with the maximum percentage of primary sales returned due to expiry is: {sales_team_with_max_expiry}\")"
   ]
  },
  {
   "cell_type": "code",
   "execution_count": 20,
   "id": "207c8ad1-ccc1-4fbc-bce8-03f2b407318a",
   "metadata": {},
   "outputs": [
    {
     "name": "stdout",
     "output_type": "stream",
     "text": [
      "The percentage of overall primary sales affected by breakage is: 0.00821106539233097%\n"
     ]
    }
   ],
   "source": [
    "data['Date'] = pd.to_datetime(data['Date'], dayfirst=True)\n",
    "data_cleaned = data[data['Primary Sales'] >= 0]\n",
    "breakage_returns_data = data_cleaned[data_cleaned['Return for Reason'] == 'Breakage']\n",
    "total_primary_sales = data_cleaned['Primary Sales'].sum()\n",
    "breakage_sales = breakage_returns_data['Primary Sales'].sum()\n",
    "breakage_percentage = (breakage_sales / total_primary_sales) * 100\n",
    "print(f\"The percentage of overall primary sales affected by breakage is: {breakage_percentage}%\")"
   ]
  },
  {
   "cell_type": "code",
   "execution_count": 21,
   "id": "e39fbbea-2759-476a-82eb-dff0bbc62fed",
   "metadata": {},
   "outputs": [
    {
     "name": "stdout",
     "output_type": "stream",
     "text": [
      "The primary sales for Delhi HQ in September were: 0.0\n"
     ]
    }
   ],
   "source": [
    "data['Date'] = pd.to_datetime(data['Date'], dayfirst=True)\n",
    "delhi_hq_teams = ['HQ North Delhi', 'HQ South Delhi', 'HQ East Delhi', 'HQ West Delhi']\n",
    "september_data = data[(data['Date'].dt.month == 9) & (data['Sales Team'].isin(delhi_hq_teams))]\n",
    "primary_sales_september_delhi = september_data['Primary Sales'].sum()\n",
    "print(\"The primary sales for Delhi HQ in September were:\", primary_sales_september_delhi)"
   ]
  },
  {
   "cell_type": "code",
   "execution_count": 22,
   "id": "0cc97193-8f34-49f9-b3a3-af588164b07a",
   "metadata": {},
   "outputs": [
    {
     "name": "stdout",
     "output_type": "stream",
     "text": [
      "The total sales of 'Britorva 20' in September for PALEPU PHARMA DIST PVT LTD under Coimbatore HQ is: 0.0\n"
     ]
    }
   ],
   "source": [
    "data['Date'] = pd.to_datetime(data['Date'], dayfirst=True)\n",
    "september_data = data[(data['Date'].dt.month == 9) & \n",
    "                       (data['Sales Team'] == 'HQ-Combitre') & \n",
    "                       (data['Customer'] == 'PALEPU PHARMA DISTRIBUTORS PVT LTD KANCH') & \n",
    "                       (data['Item Name'] == 'BRITORVA 20')]\n",
    "sales_britorva_20_september = september_data['Primary Sales'].sum()\n",
    "print(f\"The total sales of 'Britorva 20' in September for PALEPU PHARMA DIST PVT LTD under Coimbatore HQ is: {sales_britorva_20_september}\")"
   ]
  },
  {
   "cell_type": "code",
   "execution_count": 27,
   "id": "611bd00e-7614-4afa-967d-3ac6de363fd5",
   "metadata": {},
   "outputs": [
    {
     "ename": "NameError",
     "evalue": "name 'train_data' is not defined",
     "output_type": "error",
     "traceback": [
      "\u001b[1;31m---------------------------------------------------------------------------\u001b[0m",
      "\u001b[1;31mNameError\u001b[0m                                 Traceback (most recent call last)",
      "Cell \u001b[1;32mIn[27], line 1\u001b[0m\n\u001b[1;32m----> 1\u001b[0m monthly_sales \u001b[38;5;241m=\u001b[39m train_data\u001b[38;5;241m.\u001b[39mresample(\u001b[38;5;124m'\u001b[39m\u001b[38;5;124mME\u001b[39m\u001b[38;5;124m'\u001b[39m)[\u001b[38;5;124m'\u001b[39m\u001b[38;5;124mPrimary Sales\u001b[39m\u001b[38;5;124m'\u001b[39m]\u001b[38;5;241m.\u001b[39msum()\n\u001b[0;32m      2\u001b[0m moving_average \u001b[38;5;241m=\u001b[39m monthly_sales\u001b[38;5;241m.\u001b[39mrolling(window\u001b[38;5;241m=\u001b[39m\u001b[38;5;241m3\u001b[39m)\u001b[38;5;241m.\u001b[39mmean()\u001b[38;5;241m.\u001b[39miloc[\u001b[38;5;241m-\u001b[39m\u001b[38;5;241m1\u001b[39m]  \n\u001b[0;32m      3\u001b[0m \u001b[38;5;28mprint\u001b[39m(\u001b[38;5;124mf\u001b[39m\u001b[38;5;124m\"\u001b[39m\u001b[38;5;124mForecasted Primary Sales for October (using moving average): \u001b[39m\u001b[38;5;132;01m{\u001b[39;00mmoving_average\u001b[38;5;132;01m}\u001b[39;00m\u001b[38;5;124m\"\u001b[39m)\n",
      "\u001b[1;31mNameError\u001b[0m: name 'train_data' is not defined"
     ]
    }
   ],
   "source": [
    "monthly_sales = train_data.resample('ME')['Primary Sales'].sum()\n",
    "moving_average = monthly_sales.rolling(window=3).mean().iloc[-1]  \n",
    "print(f\"Forecasted Primary Sales for October (using moving average): {moving_average}\")"
   ]
  },
  {
   "cell_type": "code",
   "execution_count": 26,
   "id": "70284825-9e3c-42b6-8b1f-ff03158a6ae7",
   "metadata": {},
   "outputs": [],
   "source": [
    "# Remove rows where Primary Sales is negative\n",
    "data_cleaned = data[data['Primary Sales'] >= 0]\n"
   ]
  },
  {
   "cell_type": "code",
   "execution_count": 12,
   "id": "4b5cad7e-7374-4da7-92f9-192c9e93be7b",
   "metadata": {},
   "outputs": [],
   "source": [
    "# Replace negative values in 'Primary Sales' with zero\n",
    "data['Primary Sales'] = data['Primary Sales'].apply(lambda x: max(x, 0))\n"
   ]
  },
  {
   "cell_type": "code",
   "execution_count": 13,
   "id": "ab405d1c-584a-4531-9188-d2af2446600b",
   "metadata": {
    "scrolled": true
   },
   "outputs": [
    {
     "name": "stdout",
     "output_type": "stream",
     "text": [
      "Empty DataFrame\n",
      "Columns: [Sr, ID, Customer, Primary Sales, Cancelled, Is added to primary log, Against Expiry, Breakage, Claim Offer, Quantity, Net Rate, Free Item, HQ, Sales Team, Return for Reason, Sales Return, Sales Invoice Name, Rate Difference, Item Name, Free Item Value, Date]\n",
      "Index: []\n",
      "\n",
      "[0 rows x 21 columns]\n"
     ]
    }
   ],
   "source": [
    "data['Date'] = pd.to_datetime(data['Date'], errors='coerce')  # Coerce invalid dates to NaT\n",
    "print(data[data['Date'].isna()])  # Identify rows with invalid dates\n"
   ]
  },
  {
   "cell_type": "code",
   "execution_count": 14,
   "id": "35cf501e-5453-4ea4-8a4c-20c3ee1e998d",
   "metadata": {},
   "outputs": [
    {
     "name": "stdout",
     "output_type": "stream",
     "text": [
      "The total sales of 'Britorva 20' in September for PALEPU PHARMA DIST PVT LTD under Coimbatore HQ is: 0.0\n"
     ]
    }
   ],
   "source": [
    "data['Date'] = pd.to_datetime(data['Date'], dayfirst=True)\n",
    "september_data = data[(data['Date'].dt.month == 9) & \n",
    "                       (data['Sales Team'] == 'HQ-Combitre') & \n",
    "                       (data['Customer'] == 'PALEPU PHARMA DISTRIBUTORS PVT LTD KANCH') & \n",
    "                       (data['Item Name'] == 'BRITORVA 20')]\n",
    "sales_britorva_20_september = september_data['Primary Sales'].sum()\n",
    "print(f\"The total sales of 'Britorva 20' in September for PALEPU PHARMA DIST PVT LTD under Coimbatore HQ is: {sales_britorva_20_september}\")\n"
   ]
  },
  {
   "cell_type": "code",
   "execution_count": null,
   "id": "0d1721e2-3a78-4e0a-b53e-1d151d849d20",
   "metadata": {},
   "outputs": [],
   "source": []
  }
 ],
 "metadata": {
  "kernelspec": {
   "display_name": "Python 3 (ipykernel)",
   "language": "python",
   "name": "python3"
  },
  "language_info": {
   "codemirror_mode": {
    "name": "ipython",
    "version": 3
   },
   "file_extension": ".py",
   "mimetype": "text/x-python",
   "name": "python",
   "nbconvert_exporter": "python",
   "pygments_lexer": "ipython3",
   "version": "3.12.4"
  }
 },
 "nbformat": 4,
 "nbformat_minor": 5
}
