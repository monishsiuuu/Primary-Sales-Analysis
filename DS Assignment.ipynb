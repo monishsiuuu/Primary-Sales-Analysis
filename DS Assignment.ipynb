{
 "cells": [
  {
   "cell_type": "code",
   "execution_count": 35,
   "id": "15bf99f2-f699-4da9-b76c-7e849886fb8a",
   "metadata": {},
   "outputs": [
    {
     "data": {
      "text/html": [
       "<div>\n",
       "<style scoped>\n",
       "    .dataframe tbody tr th:only-of-type {\n",
       "        vertical-align: middle;\n",
       "    }\n",
       "\n",
       "    .dataframe tbody tr th {\n",
       "        vertical-align: top;\n",
       "    }\n",
       "\n",
       "    .dataframe thead th {\n",
       "        text-align: right;\n",
       "    }\n",
       "</style>\n",
       "<table border=\"1\" class=\"dataframe\">\n",
       "  <thead>\n",
       "    <tr style=\"text-align: right;\">\n",
       "      <th></th>\n",
       "      <th>Sr</th>\n",
       "      <th>ID</th>\n",
       "      <th>Customer</th>\n",
       "      <th>Primary Sales</th>\n",
       "      <th>Cancelled</th>\n",
       "      <th>Is added to primary log</th>\n",
       "      <th>Against Expiry</th>\n",
       "      <th>Breakage</th>\n",
       "      <th>Claim Offer</th>\n",
       "      <th>Quantity</th>\n",
       "      <th>...</th>\n",
       "      <th>Free Item</th>\n",
       "      <th>HQ</th>\n",
       "      <th>Sales Team</th>\n",
       "      <th>Return for Reason</th>\n",
       "      <th>Sales Return</th>\n",
       "      <th>Sales Invoice Name</th>\n",
       "      <th>Rate Difference</th>\n",
       "      <th>Item Name</th>\n",
       "      <th>Free Item Value</th>\n",
       "      <th>Date</th>\n",
       "    </tr>\n",
       "  </thead>\n",
       "  <tbody>\n",
       "    <tr>\n",
       "      <th>0</th>\n",
       "      <td>9354</td>\n",
       "      <td>SL-10-24-268441</td>\n",
       "      <td>SESHABALAJEE MEDISOLUTIONS PVT LTD</td>\n",
       "      <td>135.08</td>\n",
       "      <td>1</td>\n",
       "      <td>1</td>\n",
       "      <td>135.08</td>\n",
       "      <td>0.0</td>\n",
       "      <td>0.0</td>\n",
       "      <td>-4</td>\n",
       "      <td>...</td>\n",
       "      <td>0</td>\n",
       "      <td>HQ-Vizag</td>\n",
       "      <td>Elbrit AP</td>\n",
       "      <td>Expired</td>\n",
       "      <td>0.0</td>\n",
       "      <td>SINV-24-01509</td>\n",
       "      <td>0.0</td>\n",
       "      <td>TELBRIT 20</td>\n",
       "      <td>0.0</td>\n",
       "      <td>2024-09-23</td>\n",
       "    </tr>\n",
       "    <tr>\n",
       "      <th>1</th>\n",
       "      <td>9355</td>\n",
       "      <td>SL-10-24-268440</td>\n",
       "      <td>SESHABALAJEE MEDISOLUTIONS PVT LTD</td>\n",
       "      <td>413.80</td>\n",
       "      <td>1</td>\n",
       "      <td>1</td>\n",
       "      <td>413.80</td>\n",
       "      <td>0.0</td>\n",
       "      <td>0.0</td>\n",
       "      <td>-4</td>\n",
       "      <td>...</td>\n",
       "      <td>0</td>\n",
       "      <td>HQ-Vizag</td>\n",
       "      <td>Elbrit AP</td>\n",
       "      <td>Expired</td>\n",
       "      <td>0.0</td>\n",
       "      <td>SINV-24-01509</td>\n",
       "      <td>0.0</td>\n",
       "      <td>DAFAX M 5</td>\n",
       "      <td>0.0</td>\n",
       "      <td>2024-09-23</td>\n",
       "    </tr>\n",
       "    <tr>\n",
       "      <th>2</th>\n",
       "      <td>9356</td>\n",
       "      <td>SL-10-24-268439</td>\n",
       "      <td>SESHABALAJEE MEDISOLUTIONS PVT LTD</td>\n",
       "      <td>210.38</td>\n",
       "      <td>1</td>\n",
       "      <td>1</td>\n",
       "      <td>210.38</td>\n",
       "      <td>0.0</td>\n",
       "      <td>0.0</td>\n",
       "      <td>-2</td>\n",
       "      <td>...</td>\n",
       "      <td>0</td>\n",
       "      <td>HQ-Vizag</td>\n",
       "      <td>Elbrit AP</td>\n",
       "      <td>Expired</td>\n",
       "      <td>0.0</td>\n",
       "      <td>SINV-24-01509</td>\n",
       "      <td>0.0</td>\n",
       "      <td>TELBRIT AM</td>\n",
       "      <td>0.0</td>\n",
       "      <td>2024-09-23</td>\n",
       "    </tr>\n",
       "    <tr>\n",
       "      <th>3</th>\n",
       "      <td>9357</td>\n",
       "      <td>SL-10-24-268438</td>\n",
       "      <td>SESHABALAJEE MEDISOLUTIONS PVT LTD</td>\n",
       "      <td>105.19</td>\n",
       "      <td>1</td>\n",
       "      <td>1</td>\n",
       "      <td>105.19</td>\n",
       "      <td>0.0</td>\n",
       "      <td>0.0</td>\n",
       "      <td>-1</td>\n",
       "      <td>...</td>\n",
       "      <td>0</td>\n",
       "      <td>HQ-Vizag</td>\n",
       "      <td>Elbrit AP</td>\n",
       "      <td>Expired</td>\n",
       "      <td>0.0</td>\n",
       "      <td>SINV-24-01509</td>\n",
       "      <td>0.0</td>\n",
       "      <td>TELBRIT H</td>\n",
       "      <td>0.0</td>\n",
       "      <td>2024-09-23</td>\n",
       "    </tr>\n",
       "    <tr>\n",
       "      <th>4</th>\n",
       "      <td>9358</td>\n",
       "      <td>SL-10-24-268437</td>\n",
       "      <td>SESHABALAJEE MEDISOLUTIONS PVT LTD</td>\n",
       "      <td>978.30</td>\n",
       "      <td>1</td>\n",
       "      <td>1</td>\n",
       "      <td>978.30</td>\n",
       "      <td>0.0</td>\n",
       "      <td>0.0</td>\n",
       "      <td>-9</td>\n",
       "      <td>...</td>\n",
       "      <td>0</td>\n",
       "      <td>HQ-Vizag</td>\n",
       "      <td>Elbrit AP</td>\n",
       "      <td>Expired</td>\n",
       "      <td>0.0</td>\n",
       "      <td>SINV-24-01509</td>\n",
       "      <td>0.0</td>\n",
       "      <td>TRIGLIMIBRIT 1.3</td>\n",
       "      <td>0.0</td>\n",
       "      <td>2024-09-23</td>\n",
       "    </tr>\n",
       "  </tbody>\n",
       "</table>\n",
       "<p>5 rows × 21 columns</p>\n",
       "</div>"
      ],
      "text/plain": [
       "     Sr               ID                            Customer  Primary Sales  \\\n",
       "0  9354  SL-10-24-268441  SESHABALAJEE MEDISOLUTIONS PVT LTD         135.08   \n",
       "1  9355  SL-10-24-268440  SESHABALAJEE MEDISOLUTIONS PVT LTD         413.80   \n",
       "2  9356  SL-10-24-268439  SESHABALAJEE MEDISOLUTIONS PVT LTD         210.38   \n",
       "3  9357  SL-10-24-268438  SESHABALAJEE MEDISOLUTIONS PVT LTD         105.19   \n",
       "4  9358  SL-10-24-268437  SESHABALAJEE MEDISOLUTIONS PVT LTD         978.30   \n",
       "\n",
       "   Cancelled  Is added to primary log  Against Expiry  Breakage  Claim Offer  \\\n",
       "0          1                        1          135.08       0.0          0.0   \n",
       "1          1                        1          413.80       0.0          0.0   \n",
       "2          1                        1          210.38       0.0          0.0   \n",
       "3          1                        1          105.19       0.0          0.0   \n",
       "4          1                        1          978.30       0.0          0.0   \n",
       "\n",
       "   Quantity  ...  Free Item        HQ Sales Team Return for Reason  \\\n",
       "0        -4  ...          0  HQ-Vizag  Elbrit AP           Expired   \n",
       "1        -4  ...          0  HQ-Vizag  Elbrit AP           Expired   \n",
       "2        -2  ...          0  HQ-Vizag  Elbrit AP           Expired   \n",
       "3        -1  ...          0  HQ-Vizag  Elbrit AP           Expired   \n",
       "4        -9  ...          0  HQ-Vizag  Elbrit AP           Expired   \n",
       "\n",
       "  Sales Return  Sales Invoice Name Rate Difference         Item Name  \\\n",
       "0          0.0       SINV-24-01509             0.0        TELBRIT 20   \n",
       "1          0.0       SINV-24-01509             0.0         DAFAX M 5   \n",
       "2          0.0       SINV-24-01509             0.0        TELBRIT AM   \n",
       "3          0.0       SINV-24-01509             0.0         TELBRIT H   \n",
       "4          0.0       SINV-24-01509             0.0  TRIGLIMIBRIT 1.3   \n",
       "\n",
       "  Free Item Value       Date  \n",
       "0             0.0 2024-09-23  \n",
       "1             0.0 2024-09-23  \n",
       "2             0.0 2024-09-23  \n",
       "3             0.0 2024-09-23  \n",
       "4             0.0 2024-09-23  \n",
       "\n",
       "[5 rows x 21 columns]"
      ]
     },
     "execution_count": 35,
     "metadata": {},
     "output_type": "execute_result"
    }
   ],
   "source": [
    "import pandas as pd\n",
    "import matplotlib.pyplot as plt\n",
    "from statsmodels.tsa.arima.model import ARIMA\n",
    "import numpy as np\n",
    "data = pd.read_excel(\"./ELB-Sales-Data(Elbrit Sales Log).xlsx\")\n",
    "data.head()"
   ]
  },
  {
   "cell_type": "markdown",
   "id": "299333a7-c889-4d6c-8d93-2d74c5cc4f84",
   "metadata": {},
   "source": [
    "1. What was the highest-selling product in September? "
   ]
  },
  {
   "cell_type": "code",
   "execution_count": 12,
   "id": "43835f8d-c742-43b9-8f95-0437b5c9d731",
   "metadata": {},
   "outputs": [
    {
     "name": "stdout",
     "output_type": "stream",
     "text": [
      "The highest selling product in September is: NEURONZ D\n"
     ]
    }
   ],
   "source": [
    "import pandas as pd\n",
    "data['Date'] = pd.to_datetime(data['Date'], dayfirst=True)  \n",
    "september_data = data[data['Date'].dt.month == 9]\n",
    "highest_selling_product = september_data.groupby('Item Name')['Primary Sales'].sum().idxmax()\n",
    "print(\"The highest selling product in September is:\", highest_selling_product)"
   ]
  },
  {
   "cell_type": "markdown",
   "id": "fa60a846-20a3-4f40-b92a-f09b0240926c",
   "metadata": {},
   "source": [
    "2. Which product had the highest sales for the \"CND Chennai\" sales team in May? "
   ]
  },
  {
   "cell_type": "code",
   "execution_count": 17,
   "id": "4082537a-b17a-4b4e-8eab-8b3eb254c642",
   "metadata": {},
   "outputs": [
    {
     "name": "stdout",
     "output_type": "stream",
     "text": [
      "The highest selling item in May for CND Chennai is: NEURONZ D\n"
     ]
    }
   ],
   "source": [
    "data['Date'] = pd.to_datetime(data['Date'], dayfirst=True) \n",
    "may_data = data[(data['Date'].dt.month == 5) & (data['Sales Team'] == 'CND Chennai')]\n",
    "highest_sales_may_cnd = may_data.groupby('Item Name')['Primary Sales'].sum().idxmax()\n",
    "print(\"The highest selling item in May for CND Chennai is:\", highest_sales_may_cnd)"
   ]
  },
  {
   "cell_type": "markdown",
   "id": "12d7c84f-a075-4de0-b2af-0cf2da6e67cf",
   "metadata": {},
   "source": [
    "3. Which customer had the maximum stock returns in October for the Bangalore HQ? "
   ]
  },
  {
   "cell_type": "code",
   "execution_count": 20,
   "id": "6aaf7dc4-cec3-4c91-81f4-d73b0b1c4546",
   "metadata": {},
   "outputs": [
    {
     "name": "stdout",
     "output_type": "stream",
     "text": [
      "No data found for October and HQ Bangalore sales team.\n"
     ]
    }
   ],
   "source": [
    "data['Date'] = pd.to_datetime(data['Date'], dayfirst=True)  \n",
    "october_data = data[(data['Date'].dt.month == 10) & (data['Sales Team'] == 'HQ Bangalore')]\n",
    "if october_data.empty:\n",
    "    print(\"No data found for October and HQ Bangalore sales team.\")\n",
    "else:\n",
    "    customer_with_max_returns = october_data.groupby('Customer')['Sales Return'].sum().idxmax()\n",
    "    print(\"The customer with the maximum sales returns in October for HQ Bangalore is:\", customer_with_max_returns)"
   ]
  },
  {
   "cell_type": "markdown",
   "id": "a72aa752-34aa-499b-b253-e045305ab515",
   "metadata": {},
   "source": [
    "4. Which sales team had the maximum percentage of primary sales returned due to\r\n",
    "expiry?\r"
   ]
  },
  {
   "cell_type": "code",
   "execution_count": 21,
   "id": "811f763a-5d45-42d1-b547-e839385328b1",
   "metadata": {},
   "outputs": [
    {
     "name": "stdout",
     "output_type": "stream",
     "text": [
      "The sales team with the maximum percentage of primary sales returned due to expiry is: Elbrit Delhi\n"
     ]
    }
   ],
   "source": [
    "data['Date'] = pd.to_datetime(data['Date'], dayfirst=True)\n",
    "expiry_returns_data = data[data['Return for Reason'] == 'Expired']\n",
    "total_sales_by_team = data.groupby('Sales Team')['Primary Sales'].sum()\n",
    "expiry_sales_by_team = expiry_returns_data.groupby('Sales Team')['Primary Sales'].sum()\n",
    "sales_percentage_expiry = (expiry_sales_by_team / total_sales_by_team) * 100\n",
    "sales_team_with_max_expiry = sales_percentage_expiry.idxmax()\n",
    "print(f\"The sales team with the maximum percentage of primary sales returned due to expiry is: {sales_team_with_max_expiry}\")"
   ]
  },
  {
   "cell_type": "markdown",
   "id": "2ba53196-e9b9-4f68-8800-acfdf2292298",
   "metadata": {},
   "source": [
    "5. What percentage of overall primary sales was affected by breakage?"
   ]
  },
  {
   "cell_type": "code",
   "execution_count": 23,
   "id": "5cc02740-610b-418a-acc2-83ed3ed750cf",
   "metadata": {},
   "outputs": [
    {
     "name": "stdout",
     "output_type": "stream",
     "text": [
      "The percentage of overall primary sales affected by breakage is: 0.00821106539233097%\n"
     ]
    }
   ],
   "source": [
    "data['Date'] = pd.to_datetime(data['Date'], dayfirst=True)\n",
    "data_cleaned = data[data['Primary Sales'] >= 0]\n",
    "breakage_returns_data = data_cleaned[data_cleaned['Return for Reason'] == 'Breakage']\n",
    "total_primary_sales = data_cleaned['Primary Sales'].sum()\n",
    "breakage_sales = breakage_returns_data['Primary Sales'].sum()\n",
    "breakage_percentage = (breakage_sales / total_primary_sales) * 100\n",
    "print(f\"The percentage of overall primary sales affected by breakage is: {breakage_percentage}%\")"
   ]
  },
  {
   "cell_type": "markdown",
   "id": "61d42e3c-d37c-4f75-9db0-cdd9f203ea98",
   "metadata": {},
   "source": [
    "6. What were the primary sales for the Delhi HQ in the month of September? "
   ]
  },
  {
   "cell_type": "code",
   "execution_count": 27,
   "id": "a6aad664-d365-421a-95ab-3baeab23988e",
   "metadata": {},
   "outputs": [
    {
     "name": "stdout",
     "output_type": "stream",
     "text": [
      "The primary sales for Delhi HQ in September were: 0.0\n"
     ]
    }
   ],
   "source": [
    "data['Date'] = pd.to_datetime(data['Date'], dayfirst=True)\n",
    "delhi_hq_teams = ['HQ North Delhi', 'HQ South Delhi', 'HQ East Delhi', 'HQ West Delhi']\n",
    "september_data = data[(data['Date'].dt.month == 9) & (data['Sales Team'].isin(delhi_hq_teams))]\n",
    "primary_sales_september_delhi = september_data['Primary Sales'].sum()\n",
    "print(\"The primary sales for Delhi HQ in September were:\", primary_sales_september_delhi)"
   ]
  },
  {
   "cell_type": "markdown",
   "id": "44d91f77-da7d-400b-b23a-aa26dc5ae894",
   "metadata": {},
   "source": [
    "7. What were the sales of \"Britorva 20\" in September for PALEPU PHARMA DIST PVT LTD\n",
    "under Coimbatore HQ? "
   ]
  },
  {
   "cell_type": "code",
   "execution_count": 32,
   "id": "46c2e95d-bde3-4a21-bc82-5dcd8e128798",
   "metadata": {},
   "outputs": [
    {
     "name": "stdout",
     "output_type": "stream",
     "text": [
      "The total sales of 'Britorva 20' in September for PALEPU PHARMA DIST PVT LTD under Coimbatore HQ is: 0.0\n"
     ]
    }
   ],
   "source": [
    "data['Date'] = pd.to_datetime(data['Date'], dayfirst=True)\n",
    "september_data = data[(data['Date'].dt.month == 9) & \n",
    "                       (data['Sales Team'] == 'HQ-Combitre') & \n",
    "                       (data['Customer'] == 'PALEPU PHARMA DISTRIBUTORS PVT LTD KANCH') & \n",
    "                       (data['Item Name'] == 'BRITORVA 20')]\n",
    "sales_britorva_20_september = september_data['Primary Sales'].sum()\n",
    "print(f\"The total sales of 'Britorva 20' in September for PALEPU PHARMA DIST PVT LTD under Coimbatore HQ is: {sales_britorva_20_september}\")\n"
   ]
  },
  {
   "cell_type": "markdown",
   "id": "c1ac9f17-0ded-41ff-9eee-6fd4fb62b3c4",
   "metadata": {},
   "source": [
    "Bonus \r"
   ]
  },
  {
   "cell_type": "markdown",
   "id": "6b8f0170-b212-4ce4-a39f-1e15017003ff",
   "metadata": {},
   "source": [
    "1. What is the forecasted value of primary sales for the October month? "
   ]
  },
  {
   "cell_type": "code",
   "execution_count": 41,
   "id": "2614954a-940b-4e8d-a3a7-830d3b5685df",
   "metadata": {},
   "outputs": [
    {
     "name": "stdout",
     "output_type": "stream",
     "text": [
      "Forecasted Primary Sales for October (using moving average): 44249858.583333336\n"
     ]
    }
   ],
   "source": [
    "monthly_sales = train_data.resample('ME')['Primary Sales'].sum()\n",
    "moving_average = monthly_sales.rolling(window=3).mean().iloc[-1]  \n",
    "print(f\"Forecasted Primary Sales for October (using moving average): {moving_average}\")"
   ]
  },
  {
   "cell_type": "markdown",
   "id": "b835a8a9-4b50-4002-a501-ef75163d0b4d",
   "metadata": {},
   "source": [
    "2. Which product had the highest forecasted sales for the \"CND Chennai\" sales team in\r\n",
    "November?\r"
   ]
  },
  {
   "cell_type": "code",
   "execution_count": 43,
   "id": "ce5901e6-21b6-42cf-87bb-c64ec61461ca",
   "metadata": {},
   "outputs": [
    {
     "name": "stdout",
     "output_type": "stream",
     "text": [
      "No sales data for CND Chennai in November.\n"
     ]
    }
   ],
   "source": [
    "chennai_sales = data[data['Sales Team'] == 'CND Chennai']\n",
    "chennai_sales_november = chennai_sales[chennai_sales.index.month == 11]\n",
    "\n",
    "if chennai_sales_november.empty:\n",
    "    print(\"No sales data for CND Chennai in November.\")\n",
    "else:\n",
    "    monthly_sales_by_product = chennai_sales_november.groupby('Item Name')['Primary Sales'].sum()\n",
    "\n",
    "    if monthly_sales_by_product.empty:\n",
    "        print(\"No sales data for products in November for CND Chennai.\")\n",
    "    else:\n",
    "        forecasted_sales = monthly_sales_by_product.rolling(window=3).mean()\n",
    "\n",
    "        if forecasted_sales.isna().all():\n",
    "            print(\"Forecasted sales contain NaN values.\")\n",
    "        else:\n",
    "            highest_forecasted_sales_product = forecasted_sales.idxmax()\n",
    "            highest_forecasted_sales_value = forecasted_sales.max()\n",
    "\n",
    "            print(f\"Product with the highest forecasted sales for 'CND Chennai' in November: {highest_forecasted_sales_product}\")\n",
    "            print(f\"Forecasted sales for this product: {highest_forecasted_sales_value}\")"
   ]
  },
  {
   "cell_type": "markdown",
   "id": "095727ab-4ccd-4023-bcbc-13e4b47386eb",
   "metadata": {},
   "source": [
    "3. What were the forecasted sales of \"Britorva 20\" in October under Coimbatore HQ? "
   ]
  },
  {
   "cell_type": "code",
   "execution_count": 44,
   "id": "893fb564-d5d5-42a5-9f02-a2e97ace4613",
   "metadata": {},
   "outputs": [
    {
     "name": "stdout",
     "output_type": "stream",
     "text": [
      "No sales data for Coimbatore HQ in October.\n"
     ]
    }
   ],
   "source": [
    "coimbatore_sales = data[data['HQ'] == 'HQ-Coimbatore']\n",
    "coimbatore_sales_october = coimbatore_sales[coimbatore_sales.index.month == 10]\n",
    "\n",
    "if coimbatore_sales_october.empty:\n",
    "    print(\"No sales data for Coimbatore HQ in October.\")\n",
    "else:\n",
    "    monthly_sales_by_product = coimbatore_sales_october.groupby('Item Name')['Primary Sales'].sum()\n",
    "    \n",
    "    if 'Britorva 20' in monthly_sales_by_product.index:\n",
    "        britorva_sales = monthly_sales_by_product['BRITORVA 20']\n",
    "        forecasted_sales = britorva_sales.rolling(window=3).mean()\n",
    "\n",
    "        if forecasted_sales.isna().all():\n",
    "            print(\"Forecasted sales contain NaN values.\")\n",
    "        else:\n",
    "            print(f\"Forecasted sales for 'Britorva 20' in October under Coimbatore HQ: {forecasted_sales.iloc[-1]}\")\n",
    "    else:\n",
    "        print(\"No sales data for 'Britorva 20' in October under Coimbatore HQ.\")"
   ]
  },
  {
   "cell_type": "code",
   "execution_count": null,
   "id": "254bad8d-34a3-4273-87a3-5d001a89b198",
   "metadata": {},
   "outputs": [],
   "source": []
  }
 ],
 "metadata": {
  "kernelspec": {
   "display_name": "Python 3 (ipykernel)",
   "language": "python",
   "name": "python3"
  },
  "language_info": {
   "codemirror_mode": {
    "name": "ipython",
    "version": 3
   },
   "file_extension": ".py",
   "mimetype": "text/x-python",
   "name": "python",
   "nbconvert_exporter": "python",
   "pygments_lexer": "ipython3",
   "version": "3.12.4"
  }
 },
 "nbformat": 4,
 "nbformat_minor": 5
}
